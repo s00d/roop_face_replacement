{
  "nbformat": 4,
  "nbformat_minor": 0,
  "metadata": {
    "colab": {
      "provenance": [],
      "gpuType": "T4",
      "include_colab_link": true
    },
    "kernelspec": {
      "name": "python3",
      "display_name": "Python 3"
    },
    "language_info": {
      "name": "python"
    },
    "accelerator": "GPU"
  },
  "cells": [
    {
      "cell_type": "markdown",
      "metadata": {
        "id": "view-in-github",
        "colab_type": "text"
      },
      "source": [
        "<a href=\"https://colab.research.google.com/github/s00d/roop_face_replacement/blob/main/roop_face_replacement.ipynb\" target=\"_parent\"><img src=\"https://colab.research.google.com/assets/colab-badge.svg\" alt=\"Open In Colab\"/></a>"
      ]
    },
    {
      "cell_type": "code",
      "source": [
        "#@title 1) Проверяем видеокарту/Check graphics card\n",
        "!nvidia-smi"
      ],
      "metadata": {
        "id": "V6E56CNbFLKU",
        "cellView": "form"
      },
      "execution_count": null,
      "outputs": []
    },
    {
      "cell_type": "code",
      "source": [
        "#@title 2) Клонируем репозиторий с github/Clone github repo\n",
        "!git clone https://github.com/s0md3v/roop"
      ],
      "metadata": {
        "id": "OTH99O20FPpl",
        "cellView": "form"
      },
      "execution_count": null,
      "outputs": []
    },
    {
      "cell_type": "code",
      "source": [
        "#@title 3) Устанавливаем зависимости/Install dependencies\n",
        "%cd /content/roop\n",
        "!python -m pip install --upgrade pip\n",
        "!pip install -r requirements.txt\n",
        "!pip install torch==2.0.0+cu118 torchvision==0.15.1+cu118 torchaudio==2.0.1 --index-url https://download.pytorch.org/whl/cu118"
      ],
      "metadata": {
        "id": "LMNnjkEcFjZz",
        "cellView": "form"
      },
      "execution_count": null,
      "outputs": []
    },
    {
      "cell_type": "code",
      "source": [
        "#@title 4) Загружаем фото с лицом/Upload photo with face\n",
        "%cd /content/roop\n",
        "!mkdir files\n",
        "%cd /content/roop/files\n",
        "from google.colab import files\n",
        "uploaded = files.upload()\n",
        "for i in uploaded.keys():\n",
        "  face_raw = \"/content/roop/files/\" + i\n",
        "  break \n",
        "!mv \"$face_raw\" /content/roop/files/face.jpg"
      ],
      "metadata": {
        "id": "akQ00FTLG3fv",
        "cellView": "form"
      },
      "execution_count": null,
      "outputs": []
    },
    {
      "cell_type": "code",
      "source": [
        "#@title 5) Загружаем видео/Upload video\n",
        "%cd /content/roop/files\n",
        "from google.colab import files\n",
        "uploaded = files.upload()\n",
        "for i in uploaded.keys():\n",
        "  video_raw = \"/content/roop/files/\" + i\n",
        "  break \n",
        "!mv \"$video_raw\" /content/roop/files/video.mp4"
      ],
      "metadata": {
        "id": "9OoFghvvX_Tn",
        "cellView": "form"
      },
      "execution_count": null,
      "outputs": []
    },
    {
      "cell_type": "code",
      "source": [
        "#@title 6) Скачиваем inswapper_128.onnx/Download inswapper_128.onnx\n",
        "%cd /content/roop/\n",
        "import sys, os, urllib.request\n",
        "import time\n",
        "import subprocess\n",
        "import contextlib\n",
        "from IPython.display import clear_output\n",
        "HOME = os.path.expanduser(\"~\")\n",
        "if not os.path.exists(f\"{HOME}/.ipython/ocr.py\"):\n",
        "    hCode = \"https://raw.githubusercontent.com/biplobsd/\" \\\n",
        "                \"OneClickRun/master/res/ocr.py\"\n",
        "    urllib.request.urlretrieve(hCode, f\"{HOME}/.ipython/ocr.py\")\n",
        "\n",
        "from ocr import (\n",
        "    runSh,\n",
        "    loadingAn,\n",
        ")\n",
        "#@title MEGA public link download\n",
        "URL = \"https://mega.nz/file/9l8mGDJA#FnPxHwpdhDovDo6OvbQjhHd2nDAk8_iVEgo3mpHLG6U\"\n",
        "OUTPUT_PATH = \"/content/roop/inswapper_128.onnx\" \n",
        "if not OUTPUT_PATH:\n",
        "  os.makedirs(\"downloads\", exist_ok=True)\n",
        "  OUTPUT_PATH = \"downloads\"\n",
        "# MEGAcmd installing\n",
        "if not os.path.exists(\"/usr/bin/mega-cmd\"):\n",
        "    loadingAn()\n",
        "    print(\"Installing MEGA ...\")\n",
        "    runSh('sudo apt-get -y update')\n",
        "    runSh('sudo apt-get -y install libmms0 libc-ares2 libc6 libcrypto++6 libgcc1 libmediainfo0v5 libpcre3 libpcrecpp0v5 libssl1.1 libstdc++6 libzen0v5 zlib1g apt-transport-https')\n",
        "    runSh('sudo curl -sL -o /var/cache/apt/archives/MEGAcmd.deb https://mega.nz/linux/MEGAsync/Debian_9.0/amd64/megacmd-Debian_9.0_amd64.deb', output=True)\n",
        "    runSh('sudo dpkg -i /var/cache/apt/archives/MEGAcmd.deb', output=True)\n",
        "    print(\"MEGA is installed.\")\n",
        "    clear_output()\n",
        "\n",
        "# Unix, Windows and old Macintosh end-of-line\n",
        "newlines = ['\\n', '\\r\\n', '\\r']\n",
        "\n",
        "def unbuffered(proc, stream='stdout'):\n",
        "    stream = getattr(proc, stream)\n",
        "    with contextlib.closing(stream):\n",
        "        while True:\n",
        "            out = []\n",
        "            last = stream.read(1)\n",
        "            # Don't loop forever\n",
        "            if last == '' and proc.poll() is not None:\n",
        "                break\n",
        "            while last not in newlines:\n",
        "                # Don't loop forever\n",
        "                if last == '' and proc.poll() is not None:\n",
        "                    break\n",
        "                out.append(last)\n",
        "                last = stream.read(1)\n",
        "            out = ''.join(out)\n",
        "            yield out\n",
        "\n",
        "\n",
        "def transfare():\n",
        "    import codecs\n",
        "    decoder = codecs.getincrementaldecoder(\"UTF-8\")()\n",
        "    cmd = [\"mega-get\", URL, OUTPUT_PATH]\n",
        "    proc = subprocess.Popen(\n",
        "        cmd,\n",
        "        stdout=subprocess.PIPE,\n",
        "        stderr=subprocess.STDOUT,\n",
        "        # Make all end-of-lines '\\n'\n",
        "        universal_newlines=True,\n",
        "    )\n",
        "    for line in unbuffered(proc):\n",
        "        print(line)\n",
        "        \n",
        "\n",
        "\n",
        "transfare()"
      ],
      "metadata": {
        "id": "iP3LaslhGZXe",
        "cellView": "form"
      },
      "execution_count": null,
      "outputs": []
    },
    {
      "cell_type": "markdown",
      "source": [
        "Если 6 пункт не работает, то: \n",
        "\n",
        "1.   Скачиваем файл https://drive.google.com/file/d/1eu60OrRtn4WhKrzM4mQv4F3rIuyUXqfl/view\n",
        "2.   Заливаем его на Гугл Диск, открываем доступ по ссылке, копируем её и переходим по ней же\n",
        "3.   Жмем \"скачать\", когда нам напишет \"Не удалось проверить файл на наличие вирусов\" копируем ссылку из адресной строки без \"&export=download\" (должно получиться что-то типа \"https://drive.google.com/u/0/uc?id=1eu60OrRtn4WhKrzM4mQv4F3rIuyUXqfl\" (можно попробовать и эту ссылку вставить, но не факт, что сработает))\n",
        "4.   Вставляем ссылку в следующую ячейку и выполняем её\n"
      ],
      "metadata": {
        "id": "8C9arNjDPkzl"
      }
    },
    {
      "cell_type": "code",
      "source": [
        "#@title 6.1) Скачиваем inswapper_128.onnx с Гугл Диска/Download inswapper_128.onnx from Google Drive\n",
        "#@markdown ЗАПУСКАТЬ ТОЛЬКО ЕСЛИ НЕ РАБОТАЕТ 6 ПУНКТ: \n",
        "\n",
        "%cd /content/roop/\n",
        "import gdown\n",
        "#@markdown Ссылка на файл: \n",
        "url = \"https://drive.google.com/u/0/uc?id=1eu60OrRtn4WhKrzM4mQv4F3rIuyUXqfl\" #@param {type:\"string\"}\n",
        "gdown.download(url, \"/content/roop/inswapper_128.onnx\" , quiet=False)"
      ],
      "metadata": {
        "cellView": "form",
        "id": "qYjqxKOpSd8O"
      },
      "execution_count": null,
      "outputs": []
    },
    {
      "cell_type": "code",
      "source": [
        "#@title 7) Заменяем лицо/Face replace\n",
        "%cd /content/roop/\n",
        "!touch /content/output.mp4\n",
        "!python run.py -f /content/roop/files/face.jpg -t /content/roop/files/video.mp4 -o /content/output.mp4 --gpu \n",
        "from google.colab import files\n",
        "files.download('/content/output.mp4')"
      ],
      "metadata": {
        "id": "ptZRz7c2-zBF",
        "cellView": "form"
      },
      "execution_count": null,
      "outputs": []
    }
  ]
}